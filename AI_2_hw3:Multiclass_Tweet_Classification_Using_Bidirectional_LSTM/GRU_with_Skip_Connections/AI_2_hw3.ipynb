{
  "cells": [
    {
      "cell_type": "markdown",
      "metadata": {
        "id": "88CxolYgGxWL"
      },
      "source": [
        "# **Multiclass Tweet Classification Using Bidirectional LSTM/GRU with Skip Connections **\n",
        "# **Τεχνητή Νοημοσύνη 2**\n",
        "#**Εργασία 3**\n",
        "Στέφανος Μπακλαβάς 1115201700093\n"
      ]
    },
    {
      "cell_type": "code",
      "execution_count": 2,
      "metadata": {
        "colab": {
          "base_uri": "https://localhost:8080/"
        },
        "id": "3tNYtlNEGrWZ",
        "outputId": "341ff5de-803f-4fec-ee4a-baa6534e639b"
      },
      "outputs": [
        {
          "output_type": "stream",
          "name": "stdout",
          "text": [
            "Mounted at /content/drive\n"
          ]
        },
        {
          "output_type": "stream",
          "name": "stderr",
          "text": [
            "/usr/local/lib/python3.7/dist-packages/nltk/decorators.py:70: DeprecationWarning: `formatargspec` is deprecated since Python 3.5. Use `signature` and the `Signature` object directly\n",
            "  formatvalue=lambda value: \"\")[1:-1]\n"
          ]
        },
        {
          "output_type": "stream",
          "name": "stdout",
          "text": [
            "[nltk_data] Downloading package stopwords to /root/nltk_data...\n",
            "[nltk_data]   Unzipping corpora/stopwords.zip.\n",
            "Requirement already satisfied: gensim in /usr/local/lib/python3.7/dist-packages (3.6.0)\n",
            "Collecting gensim\n",
            "  Downloading gensim-4.1.2-cp37-cp37m-manylinux_2_12_x86_64.manylinux2010_x86_64.whl (24.1 MB)\n",
            "\u001b[K     |████████████████████████████████| 24.1 MB 1.6 MB/s \n",
            "\u001b[?25hRequirement already satisfied: numpy>=1.17.0 in /usr/local/lib/python3.7/dist-packages (from gensim) (1.19.5)\n",
            "Requirement already satisfied: smart-open>=1.8.1 in /usr/local/lib/python3.7/dist-packages (from gensim) (5.2.1)\n",
            "Requirement already satisfied: scipy>=0.18.1 in /usr/local/lib/python3.7/dist-packages (from gensim) (1.4.1)\n",
            "Installing collected packages: gensim\n",
            "  Attempting uninstall: gensim\n",
            "    Found existing installation: gensim 3.6.0\n",
            "    Uninstalling gensim-3.6.0:\n",
            "      Successfully uninstalled gensim-3.6.0\n",
            "Successfully installed gensim-4.1.2\n"
          ]
        },
        {
          "output_type": "stream",
          "name": "stderr",
          "text": [
            "/usr/local/lib/python3.7/dist-packages/google/colab/_pip.py:87: ResourceWarning: unclosed file <_io.TextIOWrapper name='/usr/local/lib/python3.7/dist-packages/gensim-4.1.2.dist-info/top_level.txt' mode='r' encoding='UTF-8'>\n",
            "  for line in open(toplevel):\n",
            "ResourceWarning: Enable tracemalloc to get the object allocation traceback\n"
          ]
        },
        {
          "output_type": "stream",
          "name": "stdout",
          "text": [
            "Collecting python-Levenshtein\n",
            "  Downloading python-Levenshtein-0.12.2.tar.gz (50 kB)\n",
            "\u001b[?25l\r\u001b[K     |██████▌                         | 10 kB 23.3 MB/s eta 0:00:01\r\u001b[K     |█████████████                   | 20 kB 28.5 MB/s eta 0:00:01\r\u001b[K     |███████████████████▌            | 30 kB 32.4 MB/s eta 0:00:01\r\u001b[K     |██████████████████████████      | 40 kB 20.3 MB/s eta 0:00:01\r\u001b[K     |████████████████████████████████| 50 kB 4.0 MB/s \n",
            "\u001b[?25hRequirement already satisfied: setuptools in /usr/local/lib/python3.7/dist-packages (from python-Levenshtein) (57.4.0)\n",
            "Building wheels for collected packages: python-Levenshtein\n",
            "  Building wheel for python-Levenshtein (setup.py) ... \u001b[?25l\u001b[?25hdone\n",
            "  Created wheel for python-Levenshtein: filename=python_Levenshtein-0.12.2-cp37-cp37m-linux_x86_64.whl size=149871 sha256=c7ade4dfd984146e76e3f96973969624ae401f766340186d5bafc3a07f1c0e36\n",
            "  Stored in directory: /root/.cache/pip/wheels/05/5f/ca/7c4367734892581bb5ff896f15027a932c551080b2abd3e00d\n",
            "Successfully built python-Levenshtein\n",
            "Installing collected packages: python-Levenshtein\n",
            "Successfully installed python-Levenshtein-0.12.2\n"
          ]
        },
        {
          "output_type": "stream",
          "name": "stderr",
          "text": [
            "/usr/local/lib/python3.7/dist-packages/google/colab/_pip.py:87: ResourceWarning: unclosed file <_io.TextIOWrapper name='/usr/local/lib/python3.7/dist-packages/python_Levenshtein-0.12.2.dist-info/top_level.txt' mode='r' encoding='UTF-8'>\n",
            "  for line in open(toplevel):\n",
            "ResourceWarning: Enable tracemalloc to get the object allocation traceback\n"
          ]
        },
        {
          "output_type": "stream",
          "name": "stdout",
          "text": [
            "Requirement already satisfied: beautifulsoup4 in /usr/local/lib/python3.7/dist-packages (4.6.3)\n"
          ]
        },
        {
          "output_type": "stream",
          "name": "stderr",
          "text": [
            "/usr/local/lib/python3.7/dist-packages/html5lib/_trie/_base.py:3: DeprecationWarning: Using or importing the ABCs from 'collections' instead of from 'collections.abc' is deprecated since Python 3.3,and in 3.9 it will stop working\n",
            "  from collections import Mapping\n"
          ]
        },
        {
          "output_type": "stream",
          "name": "stdout",
          "text": [
            "--2022-01-30 18:52:15--  https://nlp.stanford.edu/data/glove.twitter.27B.zip\n",
            "Resolving nlp.stanford.edu (nlp.stanford.edu)... 171.64.67.140\n",
            "Connecting to nlp.stanford.edu (nlp.stanford.edu)|171.64.67.140|:443... connected.\n",
            "HTTP request sent, awaiting response... 301 Moved Permanently\n",
            "Location: http://downloads.cs.stanford.edu/nlp/data/glove.twitter.27B.zip [following]\n",
            "--2022-01-30 18:52:15--  http://downloads.cs.stanford.edu/nlp/data/glove.twitter.27B.zip\n",
            "Resolving downloads.cs.stanford.edu (downloads.cs.stanford.edu)... 171.64.64.22\n",
            "Connecting to downloads.cs.stanford.edu (downloads.cs.stanford.edu)|171.64.64.22|:80... connected.\n",
            "HTTP request sent, awaiting response... 200 OK\n",
            "Length: 1520408563 (1.4G) [application/zip]\n",
            "Saving to: ‘glove.twitter.27B.zip’\n",
            "\n",
            "glove.twitter.27B.z 100%[===================>]   1.42G  5.20MB/s    in 4m 47s  \n",
            "\n",
            "2022-01-30 18:57:02 (5.05 MB/s) - ‘glove.twitter.27B.zip’ saved [1520408563/1520408563]\n",
            "\n",
            "Archive:  glove.twitter.27B.zip\n",
            "  inflating: glove.twitter.27B.25d.txt  \n",
            "  inflating: glove.twitter.27B.50d.txt  \n",
            "  inflating: glove.twitter.27B.100d.txt  \n",
            "  inflating: glove.twitter.27B.200d.txt  \n"
          ]
        }
      ],
      "source": [
        "#change the following lines in order to change test and validation sets\n",
        "\n",
        "\n",
        "from google.colab import drive\n",
        "drive.mount(\"/content/drive\")\n",
        "\n",
        "import nltk\n",
        "nltk.download('stopwords')\n",
        "!pip install --upgrade gensim\n",
        "!pip install python-Levenshtein\n",
        "\n",
        "\n",
        "import pandas as pd\n",
        "from sklearn.preprocessing import StandardScaler\n",
        "from sklearn.model_selection import train_test_split\n",
        "from sklearn.linear_model import Ridge\n",
        "from sklearn.metrics import mean_squared_error\n",
        "\n",
        "\n",
        "!pip install beautifulsoup4\n",
        "import matplotlib.pyplot as plt\n",
        "from matplotlib.pyplot import figure\n",
        "import pandas as pd\n",
        "import numpy as np\n",
        "from datetime import datetime\n",
        "\n",
        "from bs4 import BeautifulSoup\n",
        "\n",
        "from sklearn.linear_model import LogisticRegression\n",
        "from sklearn.feature_extraction.text import CountVectorizer\n",
        "from sklearn import datasets, linear_model\n",
        "from sklearn.model_selection import cross_val_predict\n",
        "from sklearn.naive_bayes import MultinomialNB\n",
        "\n",
        "\n",
        "\n",
        "from sklearn.feature_extraction.text import TfidfVectorizer\n",
        "from sklearn import preprocessing\n",
        "from sklearn.metrics import f1_score\n",
        "\n",
        "\n",
        "\n",
        "!wget https://nlp.stanford.edu/data/glove.twitter.27B.zip\n",
        "!unzip glove.twitter.27B.zip\n",
        "%matplotlib inline \n"
      ]
    },
    {
      "cell_type": "code",
      "execution_count": 3,
      "metadata": {
        "colab": {
          "base_uri": "https://localhost:8080/"
        },
        "id": "UVVfBhko2TW1",
        "outputId": "86378736-e338-459a-a6cb-bcd59df2c0fd"
      },
      "outputs": [
        {
          "output_type": "stream",
          "name": "stdout",
          "text": [
            "Requirement already satisfied: torchvision in /usr/local/lib/python3.7/dist-packages (0.11.1+cu111)\n",
            "Requirement already satisfied: torch==1.10.0 in /usr/local/lib/python3.7/dist-packages (from torchvision) (1.10.0+cu111)\n",
            "Requirement already satisfied: numpy in /usr/local/lib/python3.7/dist-packages (from torchvision) (1.19.5)\n",
            "Requirement already satisfied: pillow!=8.3.0,>=5.3.0 in /usr/local/lib/python3.7/dist-packages (from torchvision) (7.1.2)\n",
            "Requirement already satisfied: typing-extensions in /usr/local/lib/python3.7/dist-packages (from torch==1.10.0->torchvision) (3.10.0.2)\n"
          ]
        }
      ],
      "source": [
        "\n",
        "!pip install torchvision \n",
        "\n",
        "import torch\n",
        "import torchvision"
      ]
    },
    {
      "cell_type": "code",
      "execution_count": 5,
      "metadata": {
        "id": "AyrNpXAYstLf"
      },
      "outputs": [],
      "source": [
        "import torch.nn as nn\n",
        "import matplotlib.pyplot as plt\n",
        "import pandas as pd\n",
        "import matplotlib.pyplot as plt\n",
        "from matplotlib.pyplot import figure\n",
        "import pandas as pd\n",
        "import numpy as np\n",
        "from datetime import datetime\n",
        "import gensim\n",
        "\n",
        "\n",
        "from bs4 import BeautifulSoup\n",
        "\n",
        "from sklearn.linear_model import LogisticRegression\n",
        "from sklearn.feature_extraction.text import CountVectorizer\n",
        "from sklearn import datasets, linear_model\n",
        "from sklearn.model_selection import cross_val_predict\n",
        "from sklearn.naive_bayes import MultinomialNB\n",
        "\n",
        "from sklearn.feature_extraction.text import TfidfVectorizer\n",
        "from sklearn import preprocessing\n",
        "from sklearn.metrics import f1_score\n",
        "vaccine_train_set = r'/content/drive/MyDrive/Colab Notebooks/AI_2/AI_2_HW1/vaccine_train_set.csv'\n",
        "vaccine_validation_set = r'/content/drive/MyDrive/Colab Notebooks/AI_2/AI_2_HW1/vaccine_validation_set.csv'\n"
      ]
    },
    {
      "cell_type": "markdown",
      "metadata": {
        "id": "zv-JfGV-2yEx"
      },
      "source": [
        "## Reading the datasets\n"
      ]
    },
    {
      "cell_type": "code",
      "execution_count": 6,
      "metadata": {
        "id": "7u3tgnQU2pfd"
      },
      "outputs": [],
      "source": [
        "df_train = pd.read_csv(vaccine_train_set)\n",
        "df_validation = pd.read_csv(vaccine_validation_set)\n"
      ]
    },
    {
      "cell_type": "markdown",
      "metadata": {
        "id": "uM8cfdHt62jj"
      },
      "source": [
        "## Data Pre-processing\n"
      ]
    },
    {
      "cell_type": "markdown",
      "metadata": {
        "id": "tv8Y_3QU6yQg"
      },
      "source": [
        "Παρακάτω γίνεται η εξής προεπεξεργασία στα δεδομένα:\n",
        "\n",
        "1.   Απαλοιφή των σημείων στίξης και διάφορων άλλων χαρακτήρων\n",
        "2.   Καθαρισμός των πολλών κενών διαστημάτων και αντικατάστασή τους με ένα κενό\n",
        "3.   Μετατροπή όλων των γραμμάτων σε πεζά\n",
        "\n",
        "\n",
        "\n",
        "Είχε δοκιμαστεί και stemming αλλά δεν λειτούργησε καλύτερα.Επίσης δοκιμάστηκε να αφαιρεθούν τα emogis όμως με την τρέχουσα προεπεξεργασία αφαιρούνται έτσι κι αλλιώς.Για το λόγο αυτό οι γραμμές αυτές είναι σχολιασμένες \n"
      ]
    },
    {
      "cell_type": "code",
      "execution_count": 7,
      "metadata": {
        "id": "OUzgIHLx6xgC"
      },
      "outputs": [],
      "source": [
        "from nltk.stem.snowball import SnowballStemmer\n",
        "import re\n",
        "\n",
        "stemmer = SnowballStemmer(\"english\")\n",
        "\n",
        "\n",
        "df_train['tweet'] = df_train['tweet'].str.translate({ord(i): \" \" for i in ',–#%$&*()@''-‘\"\":.!?/'})\n",
        "df_train.columns = df_train.columns.str.replace('  ', ' ')\n",
        "df_train['tweet'] = df_train['tweet'].str.replace(r'\\b\\w\\b', '').str.replace(r'\\s+', ' ')\n",
        "df_train['tweet'] = df_train['tweet'].str.lower()\n",
        "#df_train['tweet'] = df_train['tweet'].apply(lambda x: [stemmer.stem(y) for y in x])\n",
        "#df_train['tweet'] = df_train['tweet'].str.replace('[^\\w\\s#@/:%.,_-]', '', flags=re.UNICODE)\n",
        "#df_train['tweet'] = df_train['tweet'].str.replace('\\d+', '')\n",
        "\n",
        "\n",
        "df_validation['tweet'] = df_validation['tweet'].str.translate({ord(i): \" \" for i in ',–#%$&*()@''-‘\"\":.!?/'})\n",
        "df_validation.columns = df_validation.columns.str.replace('  ', ' ')\n",
        "df_validation['tweet'] = df_validation['tweet'].str.replace(r'\\b\\w\\b', '').str.replace(r'\\s+', ' ')\n",
        "df_validation['tweet'] = df_validation['tweet'].str.lower()\n",
        "#df_validation['tweet'] = df_validation['tweet'].apply(lambda x: [stemmer.stem(y) for y in x])\n",
        "#df_validation['tweet'] = df_validation['tweet'].str.replace('[^\\w\\s#@/:%.,_-]', '', flags=re.UNICODE)\n",
        "#df_validation['tweet'] = df_validation['tweet'].str.replace('\\d+', '')\n",
        "\n"
      ]
    },
    {
      "cell_type": "markdown",
      "source": [
        "Διάβασμα των embeddings και δημιουργία του vocabulary.Στην συγκεκριμένη εργασία δεν χρησιμοποιήθηκε empedding layer , αλλά τα embeddings δημιουργούνται όπως και στην προηγούμενη καθώς διάφορα άρθρα συμπαίρεναν ότι έτσι έχουμε λίγο καλύτερη απόδοση.\n",
        "Ένα τέτοιο άρθρο είναι το εξής:\n",
        "\n",
        "https://towardsdatascience.com/pre-trained-word-embeddings-or-embedding-layer-a-dilemma-8406959fd76c"
      ],
      "metadata": {
        "id": "tfTuL2XeuoJX"
      }
    },
    {
      "cell_type": "code",
      "execution_count": 8,
      "metadata": {
        "id": "zg5eudda68xn"
      },
      "outputs": [],
      "source": [
        "glove = pd.read_csv('glove.twitter.27B.50d.txt', sep=\" \", quoting=3, header=None, index_col=0)\n"
      ]
    },
    {
      "cell_type": "code",
      "execution_count": 9,
      "metadata": {
        "id": "Ypf_3F87-Mu8"
      },
      "outputs": [],
      "source": [
        "glove_embedding = {key: val.values for key, val in glove.T.items()}\n"
      ]
    },
    {
      "cell_type": "code",
      "execution_count": 10,
      "metadata": {
        "id": "YI1IXUWC_KUE"
      },
      "outputs": [],
      "source": [
        "\n",
        "def create_tweets_average_vectors(df,glove_embedding,dimension):  \n",
        "  \n",
        "  tweets_vector = []\n",
        "  counter1 = 0\n",
        "  counter2 = 0\n",
        "  for tweet in df['tweet']:\n",
        "    l = []\n",
        "    for word in tweet:\n",
        "      if word in glove_embedding.keys():\n",
        "        val = glove_embedding[word]\n",
        "        l.append(val)\n",
        "        counter1=counter1+1\n",
        "      else: \n",
        "        if len(l) != 0:\n",
        "          avg = np.array(l)  \n",
        "          avg = np.average(avg,axis=0)\n",
        "          l.append(avg)\n",
        "          counter2 = counter2+1\n",
        "        else:\n",
        "          l.append(np.zeros(dimension)) \n",
        "    \n",
        "    #n = np.array(l)  \n",
        "    #n = np.average(n,axis=0)\n",
        "    tweets_vector.append(l)\n",
        "\n",
        "  return tweets_vector    \n",
        "\n",
        "\n",
        "\n",
        "\n",
        "train_tweets_vector = create_tweets_average_vectors(df_train,glove_embedding,50)\n",
        "validation_tweets_vector = create_tweets_average_vectors(df_validation,glove_embedding,50)\n",
        "\n"
      ]
    },
    {
      "cell_type": "markdown",
      "source": [
        "Αφού κάθε πρόταση θα γίνει padded από εμάς δεν δημιουργούμε ακόμα tensors. Συγκεκριμένα κάθε tweet πλέον αποτελείται από τα embeddings των λέξεων που περιέχει ενώ το padding θα γίνει με τον dataloader με την χρήση της συνάρτησης collate_fn2 που φτιάχτηκε"
      ],
      "metadata": {
        "id": "Uv9aB9KrxiVQ"
      }
    },
    {
      "cell_type": "code",
      "execution_count": 11,
      "metadata": {
        "id": "hXyAm-vfrXbk"
      },
      "outputs": [],
      "source": [
        "X_train = train_tweets_vector\n",
        "X_validation = validation_tweets_vector\n",
        "\n",
        "y_train = df_train['label']\n",
        "y_validation = df_validation['label']\n",
        "\n",
        "#X_train = torch.tensor(X_train, dtype=torch.float)\n",
        "#y_train = torch.tensor(y_train.values, dtype=torch.long)\n",
        "\n",
        "#print(f\"X_train shape: {X_train.shape}\")\n",
        "#print(f\"y_train shape: {y_train.shape}\")\n",
        "\n",
        "#X_validation = torch.tensor(X_validation, dtype=torch.float)\n",
        "#y_validation = torch.tensor(y_validation.values, dtype=torch.long)\n",
        "\n",
        "#print(f\"X_validation shape: {X_validation.shape}\")\n",
        "#print(f\"y_validation shape: {y_validation.shape}\")\n"
      ]
    },
    {
      "cell_type": "markdown",
      "source": [
        "Ένωση των tweets με τα labels"
      ],
      "metadata": {
        "id": "yOXUqNqoyHuT"
      }
    },
    {
      "cell_type": "code",
      "execution_count": 12,
      "metadata": {
        "id": "8AEkVbeeWL4k"
      },
      "outputs": [],
      "source": [
        "\n",
        "dataset_train = list()\n",
        "dataset_validation = list()\n",
        "for i in range(0,len(X_train) - 1):\n",
        "  dataset_train.append((X_train[i],y_train[i]))\n",
        "for i in range(0,len(X_validation) - 1):\n",
        "  dataset_validation.append((X_train[i],y_train[i]))  \n",
        "\n"
      ]
    },
    {
      "cell_type": "code",
      "execution_count": null,
      "metadata": {
        "id": "3KE08aqmS-_3",
        "colab": {
          "base_uri": "https://localhost:8080/"
        },
        "outputId": "34459ff5-f643-40b7-8051-700593e39334"
      },
      "outputs": [
        {
          "output_type": "stream",
          "name": "stdout",
          "text": [
            "Found GPU at: /device:GPU:0\n"
          ]
        }
      ],
      "source": [
        "%tensorflow_version 2.x\n",
        "import tensorflow as tf\n",
        "device_name = tf.test.gpu_device_name()\n",
        "if device_name != '/device:GPU:0':\n",
        "  raise SystemError('GPU device not found')\n",
        "print('Found GPU at: {}'.format(device_name))"
      ]
    },
    {
      "cell_type": "markdown",
      "source": [
        "To μοντέλο που χρησιμοποιήσαμε χωρίς τα skip connections .Όταν χρησιμοποιύσαμε gru τότε αλλάζαμε το nn.LSTM σε nn.GRU "
      ],
      "metadata": {
        "id": "oJUVGP1VyQ3u"
      }
    },
    {
      "cell_type": "markdown",
      "source": [
        "Η κλάση παρόλο που έχει όνομα LSTM() περιέχει GRU_cells (sorry for that)"
      ],
      "metadata": {
        "id": "wgj5Drijd42O"
      }
    },
    {
      "cell_type": "code",
      "execution_count": 13,
      "metadata": {
        "id": "3guQNR8mdnbe"
      },
      "outputs": [],
      "source": [
        "from torch.nn.utils.rnn import pack_padded_sequence, pad_packed_sequence\n",
        "\n",
        "class LSTM(nn.Module):\n",
        "\n",
        "    def __init__(self, dimension=16):\n",
        "        super(LSTM, self).__init__()\n",
        "\n",
        "        #self.embedding = nn.Embedding(len(text_field.vocab), 50)\n",
        "        self.dimension = dimension\n",
        "        self.lstm = nn.GRU(input_size=50,\n",
        "                            hidden_size=dimension,\n",
        "                            num_layers=2,\n",
        "                            batch_first=True,\n",
        "                            bidirectional=True)\n",
        "        self.drop = nn.Dropout(p=0.1)\n",
        "\n",
        "        self.linear = nn.Linear(2*dimension, 3)\n",
        "\n",
        "    def forward(self, text, lengths):\n",
        "\n",
        "        packed_input = pack_padded_sequence(text, lengths.cpu(), batch_first=True, enforce_sorted=False)\n",
        "        packed_output, _ = self.lstm(packed_input)\n",
        "        output, _ = pad_packed_sequence(packed_output, batch_first=True)\n",
        "\n",
        "        out_forward = output[range(len(output)), lengths - 1, :self.dimension]\n",
        "        out_reverse = output[:, 0, self.dimension:]\n",
        "        out_reduced = torch.cat((out_forward, out_reverse), 1)\n",
        "        text_fea = self.drop(out_reduced)\n",
        "        text_fea = self.linear(text_fea)\n",
        "        text_fea = torch.squeeze(text_fea, 1)\n",
        "\n",
        "        return text_fea"
      ]
    },
    {
      "cell_type": "markdown",
      "source": [
        "Το συγκεκριμένο biddirectional LSTM κλήθηκε όταν δοκιμάσαμε αν τα skip_connections θα βελτίωναν την απόδοση . Διαθέτει 4 lstm layers και 3 dropout σε κάθε κατεύθυνση πριν τα δύο output του biddirectional γίνουν concat για να περάσουν από ένα dropout και ένα linear στρώμα"
      ],
      "metadata": {
        "id": "oEz41Rh3zXk_"
      }
    },
    {
      "cell_type": "markdown",
      "source": [
        "Η κλάση παρόλο που έχει όνομα LSTM_SKIP περιέχει GRU_cells (sorry for that)"
      ],
      "metadata": {
        "id": "NdNluvmldn_u"
      }
    },
    {
      "cell_type": "code",
      "execution_count": 14,
      "metadata": {
        "id": "L2o42kSFlByX"
      },
      "outputs": [],
      "source": [
        "class LSTM_SKIP(nn.Module):\n",
        "\n",
        "    def __init__(self, dimension=16):\n",
        "        super(LSTM_SKIP, self).__init__()\n",
        "\n",
        "        self.nlayers = 4\n",
        "        self.input_size = 50\n",
        "        self.hidden_size = dimension\n",
        "        self.dimension = dimension\n",
        "        self.forward_lstms = nn.ModuleList()\n",
        "        \n",
        "        for i in range(self.nlayers):\n",
        "            input_size = self.input_size if i == 0 else self.hidden_size\n",
        "            self.forward_lstms.append(nn.GRU(input_size, self.hidden_size, 1,batch_first = True))\n",
        "\n",
        "        self.backward_lstms = nn.ModuleList()\n",
        "        for i in range(self.nlayers):\n",
        "            self.input_size = self.input_size if i == 0 else self.hidden_size\n",
        "            self.backward_lstms.append(nn.GRU(input_size, self.hidden_size, 1,batch_first = True))\n",
        "\n",
        "        self.backward_dropouts = nn.ModuleList()\n",
        "        for i in range(self.nlayers-1):\n",
        "            self.backward_dropouts.append(nn.Dropout(p = 0.3))    \n",
        "\n",
        "        self.forward_dropouts = nn.ModuleList()\n",
        "        for i in range(self.nlayers-1):\n",
        "            self.forward_dropouts.append(nn.Dropout(p = 0.3))    \n",
        "   \n",
        "\n",
        "        self.drop = nn.Dropout(p=0.1)\n",
        "\n",
        "        self.linear = nn.Linear(2*dimension, 3)\n",
        "\n",
        "    def forward(self,text,lengths,text_reversed):\n",
        "\n",
        "\n",
        "        packed_input_forw = pack_padded_sequence(text, lengths.cpu(), batch_first=True, enforce_sorted=False)\n",
        "        packed_input_backw = pack_padded_sequence(text_reversed, lengths.cpu(), batch_first=True, enforce_sorted=False)\n",
        "\n",
        "        outputs_forw = []\n",
        "        sent_variable_forw = packed_input_forw\n",
        "        for i in range(self.nlayers):\n",
        "            if i != 0:\n",
        "               sent_variable_forw, _ = pad_packed_sequence(sent_variable_forw, batch_first=True)\n",
        "\n",
        "               sent_variable_forw = self.forward_dropouts[i-1](sent_variable_forw)\n",
        "               if i >=2:\n",
        "                 \n",
        "                 outp_forw = outputs_forw[i-2]\n",
        "                 outp_forw,_ = pad_packed_sequence(outp_forw, batch_first=True)\n",
        "                 sent_variable_forw = sent_variable_forw + outp_forw\n",
        "\n",
        "               sent_variable_forw = pack_padded_sequence(sent_variable_forw, lengths.cpu(), batch_first=True, enforce_sorted=False)\n",
        "\n",
        "    \n",
        "            output_forw,(hidden_forw,c) = self.forward_lstms[i](sent_variable_forw)\n",
        "            outputs_forw.append(output_forw)\n",
        "            sent_variable_forw = output_forw\n",
        "          \n",
        "\n",
        "        outputs_backw = []\n",
        "        sent_variable_backw = packed_input_backw\n",
        "        for i in range(self.nlayers):\n",
        "            if i != 0:\n",
        "                sent_variable_backw, _ = pad_packed_sequence(sent_variable_backw, batch_first=True)\n",
        "\n",
        "                sent_variable_backw = self.backward_dropouts[i-1](sent_variable_backw)\n",
        "                if i >=2:\n",
        "                  \n",
        "                  outp_backw = outputs_backw[i-2]\n",
        "                  outp_backw,_ = pad_packed_sequence(outp_backw, batch_first=True)\n",
        "                  sent_variable_backw = sent_variable_backw + outp_backw\n",
        "\n",
        "                sent_variable_backw = pack_padded_sequence(sent_variable_backw, lengths.cpu(), batch_first=True, enforce_sorted=False)\n",
        "\n",
        "    \n",
        "            output_backw, (hidden_backw,c) = self.forward_lstms[i](sent_variable_backw)\n",
        "            outputs_backw.append(output_backw)\n",
        "            sent_variable_backw = output_backw     \n",
        "      \n",
        "              \n",
        "        out_forw = sent_variable_forw\n",
        "        out_backw = sent_variable_backw\n",
        "\n",
        "        outputforward, _ = pad_packed_sequence(out_forw, batch_first=True)\n",
        "        outputbackward, _ = pad_packed_sequence(out_backw, batch_first=True)\n",
        "        \n",
        "        outputforward = outputforward[range(len(outputforward)), lengths - 1, :self.dimension]\n",
        "        outputbackward = outputbackward[range(len(outputbackward)), lengths - 1, :self.dimension]\n",
        "\n",
        "        out_reduced = torch.cat((outputforward, outputbackward), 1)\n",
        "        text_fea = self.drop(out_reduced)\n",
        "        text_fea = self.linear(text_fea)\n",
        "        text_fea = torch.squeeze(text_fea, 1)\n",
        "\n",
        "        return text_fea"
      ]
    },
    {
      "cell_type": "markdown",
      "source": [
        "Εδώ έχει οριστεί η collate_fn_2 η οποία κάνει padding στα tweets και μία bubble_sort η οποία τα ταξινομεί με βάση το μήκος των tweets σε κάθε batch πριν το padding"
      ],
      "metadata": {
        "id": "mz6ZgOP34J0x"
      }
    },
    {
      "cell_type": "code",
      "execution_count": 15,
      "metadata": {
        "id": "Lg06XUpofB0r"
      },
      "outputs": [],
      "source": [
        "def bubble_sort(sequences,labels):\n",
        "\n",
        "\n",
        "  list_length = len(sequences)\n",
        "  for i in range(0, list_length):\n",
        "      for j in range(0, list_length-i-1):  \n",
        "          if len(sequences[j]) < len(sequences[j+1]) :  \n",
        "              temp1 = sequences[j]  \n",
        "              temp2 = labels[j]\n",
        "              sequences[j]= sequences[j + 1]\n",
        "              labels[j] = labels[j+1]  \n",
        "              sequences[j + 1]= temp1\n",
        "              labels[j+1] = temp2  \n",
        "\n",
        "\n",
        "  return sequences,labels\n",
        "\n",
        "\n",
        "def pad_collate_fn2(batch):\n",
        "  \n",
        "  labels = []\n",
        "  sequences = []\n",
        "  for row in batch:\n",
        "    labels.append(row[1])\n",
        "    sequences.append(row[0])\n",
        "\n",
        "  sequences,labels = bubble_sort(sequences,labels)\n",
        "\n",
        "  sequences = [torch.torch.FloatTensor(item) for item in sequences]\n",
        "  reversed_sequences = [torch.torch.FloatTensor(torch.flip(item,[0,1]) ) for item in sequences]\n",
        "\n",
        "  reverse_sequences_padded =torch.nn.utils.rnn.pad_sequence(reversed_sequences, batch_first=True)  \n",
        "  sequences_padded = torch.nn.utils.rnn.pad_sequence(sequences, batch_first=True)  \n",
        "  lengths = torch.LongTensor([len(x) for x in sequences])\n",
        "  \n",
        "  #we also return the reversed_padded_sequences because the LSTM_SKIP() is mannually biddirectional and we need the reversed sequences as input\n",
        "  return sequences_padded, labels, lengths,reverse_sequences_padded\n",
        "\n"
      ]
    },
    {
      "cell_type": "markdown",
      "source": [
        "Αν θέλουμε το μοντέλο με τα skip connections ξεσχολιάζουμε την γραμμή και σχολιάζουμε την απο πάνω της"
      ],
      "metadata": {
        "id": "m7jApAL152N_"
      }
    },
    {
      "cell_type": "code",
      "execution_count": 18,
      "metadata": {
        "id": "BxPcLNNzsiIf",
        "colab": {
          "base_uri": "https://localhost:8080/"
        },
        "outputId": "eba71630-d32c-48ea-8991-e8948a02bc7d"
      },
      "outputs": [
        {
          "output_type": "stream",
          "name": "stdout",
          "text": [
            "tensor([0.7140, 2.5689, 0.8263])\n"
          ]
        }
      ],
      "source": [
        "from sklearn.utils.class_weight import compute_class_weight\n",
        "\n",
        "l = []\n",
        "for row in y_train:\n",
        "  l.append(row)\n",
        "\n",
        "classess = np.array([0,1, 2])\n",
        "weights = compute_class_weight(\n",
        "                                        class_weight = 'balanced',\n",
        "                                        classes = classess,\n",
        "                                        y = l                                            \n",
        "                                    )\n",
        "\n",
        "\n",
        "weights = torch.tensor(weights, dtype=torch.float)\n",
        "\n",
        "lstm_model = LSTM()\n",
        "#lstm_model = LSTM_SKIP()\n",
        "\n",
        "\n",
        "loss_func = nn.CrossEntropyLoss(weight=weights)\n",
        "optimizer = torch.optim.Adam(lstm_model.parameters(), lr=0.001,)\n",
        "\n",
        "\n",
        "dataloader_train = torch.utils.data.DataLoader(dataset_train, batch_size=32, shuffle=True, collate_fn=pad_collate_fn2)\n",
        "dataloader_validation = torch.utils.data.DataLoader(dataset_validation, batch_size=8, shuffle=True, collate_fn=pad_collate_fn2)\n",
        "print(weights)"
      ]
    },
    {
      "cell_type": "markdown",
      "source": [
        "# Τρεξτε αυτό αν ΔΕΝ βάλετε το μοντέλο με τα skip connections"
      ],
      "metadata": {
        "id": "QWnEdmgI5lNu"
      }
    },
    {
      "cell_type": "code",
      "source": [
        "from numpy.core.fromnumeric import argmax\n",
        "from sklearn.metrics import precision_score\n",
        "from sklearn.metrics import recall_score\n",
        "\n",
        "from itertools import cycle\n",
        "\n",
        "from sklearn import svm, datasets\n",
        "from sklearn.metrics import roc_curve, auc\n",
        "from sklearn.model_selection import train_test_split\n",
        "from sklearn.preprocessing import label_binarize\n",
        "from sklearn.multiclass import OneVsRestClassifier\n",
        "from scipy import interp\n",
        "from sklearn.metrics import roc_auc_score\n",
        "\n",
        "from scipy.special import softmax\n",
        "import warnings\n",
        "warnings.filterwarnings('ignore')\n",
        "\n",
        "def Average(lst):\n",
        "    return sum(lst) / len(lst)\n",
        "\n",
        "train_loss = []\n",
        "validation_loss = []\n",
        "epochs = []\n",
        "fpr = dict()\n",
        "tpr = dict()\n",
        "roc_auc = dict()\n",
        "best_epoch_preds = []\n",
        "best_epoch_y_values = []\n",
        "prev_max_presicion = 0\n",
        "\n",
        "for epoch in range(20):\n",
        "  \n",
        "  batch_losses_train = []\n",
        "  batch_losses_validation = []\n",
        "\n",
        "  preds = []\n",
        "  y_values = []\n",
        "\n",
        "  lstm_model.train()\n",
        "\n",
        "  for x_batch, y_batch,lengths,x_batch_reversed in dataloader_train:\n",
        "\n",
        "      y_pred = lstm_model(x_batch,lengths)\n",
        "\n",
        "      y_batch = torch.LongTensor(y_batch)\n",
        "      \n",
        "      loss = loss_func(y_pred, y_batch)\n",
        "      batch_losses_train.append(loss.item())\n",
        "     \n",
        "      #Delete previously stored gradients\n",
        "      optimizer.zero_grad()\n",
        "      #Perform backpropagation starting from the loss calculated in this epoch\n",
        "      loss.backward()\n",
        "\n",
        "      \n",
        "      #torch.nn.utils.clip_grad_norm(lstm_model.parameters(),max_norm=2.0, norm_type=2)\n",
        "      #Update model's weights based on the gradients calculated during backprop\n",
        "      optimizer.step()\n",
        "\n",
        "\n",
        "  train_loss.append(Average(batch_losses_train))\n",
        "  batch_losses_train.clear\n",
        "\n",
        "  lstm_model.eval()\n",
        "\n",
        "  for x_batch, y_batch,lengths,x_batch_reversed in dataloader_validation:\n",
        "   \n",
        "    y_pred = lstm_model(x_batch,lengths)\n",
        "    \n",
        "    y_batch = torch.LongTensor(y_batch)\n",
        "\n",
        "    loss = loss_func(y_pred, y_batch)\n",
        "\n",
        "    y_pred = y_pred.detach().numpy()\n",
        "    y_batch = y_batch.detach().numpy()\n",
        "\n",
        "    y_pred = softmax(y_pred)\n",
        "    for pred in y_pred:\n",
        "      preds.append(argmax(pred))\n",
        "    for val in y_batch:\n",
        "      y_values.append(val)   \n",
        "\n",
        "    #mallon prepei na sholiasw autes tis grammes i kapoies apo autes  \n",
        "    batch_losses_validation.append(loss.item())\n",
        "\n",
        "\n",
        "  epochs.append(epoch)\n",
        "  validation_loss.append(Average(batch_losses_validation))\n",
        " \n",
        "\n",
        "  print(\"y_values length = \",len(y_values))\n",
        "  f1 = f1_score(y_values,preds,average='weighted',labels=np.unique(preds))\n",
        "  print('F1 score: ',f1)\n",
        "  precision = precision_score(y_values,preds, average='weighted',labels=np.unique(preds))\n",
        "  print('Precision score: ',precision)\n",
        "\n",
        "\n",
        "  if precision > prev_max_presicion:\n",
        "    prev_max_presicion = precision\n",
        "    prev_max_f1 = f1\n",
        "    best_epoch_preds = preds.copy()\n",
        "    best_epoch_y_values = y_values.copy()\n",
        "    print(\"here\")\n",
        "\n",
        "  \n",
        "  output = set(y_values) - set(preds)\n",
        "  print(output)\n",
        "  preds.clear()\n",
        "  y_values.clear()\n",
        "  batch_losses_validation.clear\n",
        "\n",
        "\n",
        "best_epoch_y_values = label_binarize(best_epoch_y_values,classes = [0,1,2])\n",
        "best_epoch_preds = label_binarize(best_epoch_preds,classes = [0,1,2])\n",
        "\n",
        "#for val in best_epoch_y_values:\n",
        "for i in range(3):\n",
        "    fpr[i], tpr[i], _ = roc_curve(best_epoch_y_values[:, i], best_epoch_preds[:, i])\n",
        "    roc_auc[i] = auc(fpr[i], tpr[i])\n",
        "\n",
        "\n",
        "# Compute micro-average ROC curve and ROC area\n",
        "fpr[\"micro\"], tpr[\"micro\"], _ = roc_curve(best_epoch_y_values.ravel(), best_epoch_preds.ravel())\n",
        "roc_auc[\"micro\"] = auc(fpr[\"micro\"], tpr[\"micro\"])\n",
        "\n",
        "print(prev_max_f1)\n",
        "print(prev_max_presicion)"
      ],
      "metadata": {
        "id": "eZp3EZKK6Smw",
        "colab": {
          "base_uri": "https://localhost:8080/"
        },
        "outputId": "bc29c6a1-bbe5-4822-be3a-77487bc15be0"
      },
      "execution_count": 16,
      "outputs": [
        {
          "output_type": "stream",
          "name": "stdout",
          "text": [
            "y_values length =  2281\n",
            "F1 score:  0.4400658190073931\n",
            "Precision score:  0.49702632405346936\n",
            "here\n",
            "set()\n",
            "y_values length =  2281\n",
            "F1 score:  0.6027899834851447\n",
            "Precision score:  0.6358880299314398\n",
            "here\n",
            "set()\n",
            "y_values length =  2281\n",
            "F1 score:  0.5906814698501389\n",
            "Precision score:  0.6453733675146966\n",
            "here\n",
            "set()\n",
            "y_values length =  2281\n",
            "F1 score:  0.5768902911430157\n",
            "Precision score:  0.6456016186355675\n",
            "here\n",
            "set()\n",
            "y_values length =  2281\n",
            "F1 score:  0.6438704997590551\n",
            "Precision score:  0.6617430413632953\n",
            "here\n",
            "set()\n",
            "y_values length =  2281\n",
            "F1 score:  0.6240516320676265\n",
            "Precision score:  0.6594092582714305\n",
            "set()\n",
            "y_values length =  2281\n",
            "F1 score:  0.6673296475940296\n",
            "Precision score:  0.6917881090086161\n",
            "here\n",
            "set()\n",
            "y_values length =  2281\n",
            "F1 score:  0.6432232661219175\n",
            "Precision score:  0.7046969900270023\n",
            "here\n",
            "set()\n",
            "y_values length =  2281\n",
            "F1 score:  0.6723889634607861\n",
            "Precision score:  0.7239022014435988\n",
            "here\n",
            "set()\n",
            "y_values length =  2281\n",
            "F1 score:  0.6957182737266394\n",
            "Precision score:  0.7125127272276529\n",
            "set()\n",
            "y_values length =  2281\n",
            "F1 score:  0.6802900220803886\n",
            "Precision score:  0.6982467600058849\n",
            "set()\n",
            "y_values length =  2281\n",
            "F1 score:  0.6985535459796112\n",
            "Precision score:  0.7048070371130438\n",
            "set()\n",
            "y_values length =  2281\n",
            "F1 score:  0.6851586784675674\n",
            "Precision score:  0.7302592767063113\n",
            "here\n",
            "set()\n",
            "y_values length =  2281\n",
            "F1 score:  0.6768795409651576\n",
            "Precision score:  0.7165197790607957\n",
            "set()\n",
            "y_values length =  2281\n",
            "F1 score:  0.6895129536120774\n",
            "Precision score:  0.7288632315004835\n",
            "set()\n",
            "y_values length =  2281\n",
            "F1 score:  0.6716480499297097\n",
            "Precision score:  0.7462979321330949\n",
            "here\n",
            "set()\n",
            "y_values length =  2281\n",
            "F1 score:  0.6984273356575967\n",
            "Precision score:  0.732490156353828\n",
            "set()\n",
            "y_values length =  2281\n",
            "F1 score:  0.6943133815908183\n",
            "Precision score:  0.7381063378133337\n",
            "set()\n",
            "y_values length =  2281\n",
            "F1 score:  0.68106222621467\n",
            "Precision score:  0.735575414802197\n",
            "set()\n",
            "y_values length =  2281\n",
            "F1 score:  0.7013109385777933\n",
            "Precision score:  0.7299595769182123\n",
            "set()\n",
            "0.6716480499297097\n",
            "0.7462979321330949\n"
          ]
        }
      ]
    },
    {
      "cell_type": "markdown",
      "source": [
        "# Τρεξτε αυτό αν βάλετε το μοντέλο με τα skip connections \n",
        "(λόγω χρόνου δεν κατάφερα να ξανατρέξω το συγκεκριμένο για να φαίνονται τα σκορ  στο τελικό παραδοτέο,αλλά τα σκορ και τα δύο διαγράμματα υπάρχουν στο report )"
      ],
      "metadata": {
        "id": "D3WW_cU96vWg"
      }
    },
    {
      "cell_type": "code",
      "source": [
        "from numpy.core.fromnumeric import argmax\n",
        "from sklearn.metrics import precision_score\n",
        "from sklearn.metrics import recall_score\n",
        "\n",
        "from itertools import cycle\n",
        "\n",
        "from sklearn import svm, datasets\n",
        "from sklearn.metrics import roc_curve, auc\n",
        "from sklearn.model_selection import train_test_split\n",
        "from sklearn.preprocessing import label_binarize\n",
        "from sklearn.multiclass import OneVsRestClassifier\n",
        "from scipy import interp\n",
        "from sklearn.metrics import roc_auc_score\n",
        "\n",
        "from scipy.special import softmax\n",
        "import warnings\n",
        "warnings.filterwarnings('always')\n",
        "\n",
        "def Average(lst):\n",
        "    return sum(lst) / len(lst)\n",
        "\n",
        "train_loss = []\n",
        "validation_loss = []\n",
        "epochs = []\n",
        "fpr = dict()\n",
        "tpr = dict()\n",
        "roc_auc = dict()\n",
        "best_epoch_preds = []\n",
        "best_epoch_y_values = []\n",
        "prev_max_presicion = 0\n",
        "\n",
        "for epoch in range(20):\n",
        "  \n",
        "  batch_losses_train = []\n",
        "  batch_losses_validation = []\n",
        "\n",
        "  preds = []\n",
        "  y_values = []\n",
        "\n",
        "  lstm_model.train()\n",
        "\n",
        "  for x_batch, y_batch,lengths,x_batch_reversed in dataloader_train:\n",
        "     \n",
        "      y_pred = lstm_model(x_batch,lengths,x_batch_reversed)\n",
        "  \n",
        "      y_batch = torch.LongTensor(y_batch)\n",
        "      \n",
        "      loss = loss_func(y_pred, y_batch)\n",
        "      batch_losses_train.append(loss.item())\n",
        "      \n",
        "      #Delete previously stored gradients\n",
        "      optimizer.zero_grad()\n",
        "      #Perform backpropagation starting from the loss calculated in this epoch\n",
        "      loss.backward()\n",
        "      #Update model's weights based on the gradients calculated during backprop\n",
        "      optimizer.step()\n",
        "\n",
        "\n",
        "  train_loss.append(Average(batch_losses_train))\n",
        "  batch_losses_train.clear\n",
        "\n",
        "  lstm_model.eval()\n",
        "\n",
        "  for x_batch, y_batch,lengths,x_batch_reversed in dataloader_validation:\n",
        "   \n",
        "    y_pred = lstm_model(x_batch,lengths,x_batch_reversed)\n",
        "    \n",
        "    y_batch = torch.LongTensor(y_batch)\n",
        "\n",
        "    loss = loss_func(y_pred, y_batch)\n",
        "\n",
        "    y_pred = y_pred.detach().numpy()\n",
        "    y_batch = y_batch.detach().numpy()\n",
        "\n",
        "    y_pred = softmax(y_pred)\n",
        "    for pred in y_pred:\n",
        "      preds.append(argmax(pred))\n",
        "    for val in y_batch:\n",
        "      y_values.append(val)   \n",
        "\n",
        "    #mallon prepei na sholiasw autes tis grammes i kapoies apo autes  \n",
        "    batch_losses_validation.append(loss.item())\n",
        "\n",
        "\n",
        "  epochs.append(epoch)\n",
        "  validation_loss.append(Average(batch_losses_validation))\n",
        "  \n",
        "  print(\"y_values length = \",len(y_values))\n",
        "  f1 = f1_score(y_values,preds,average='weighted',labels=np.unique(preds))\n",
        "  print('F1 score: ',f1)\n",
        "  precision = precision_score(y_values,preds, average='weighted',labels=np.unique(preds))\n",
        "  print('Precision score: ',precision)\n",
        "\n",
        "\n",
        "  if precision > prev_max_presicion:\n",
        "    prev_max_presicion = precision\n",
        "    prev_max_f1 = f1\n",
        "    best_epoch_preds = preds.copy()\n",
        "    best_epoch_y_values = y_values.copy()\n",
        "    print(\"here\")\n",
        "\n",
        "  \n",
        "  output = set(y_values) - set(preds)\n",
        "  print(output)\n",
        "  preds.clear()\n",
        "  y_values.clear()\n",
        "  batch_losses_validation.clear\n",
        "\n",
        "\n",
        "best_epoch_y_values = label_binarize(best_epoch_y_values,classes = [0,1,2])\n",
        "best_epoch_preds = label_binarize(best_epoch_preds,classes = [0,1,2])\n",
        "\n",
        "#for val in best_epoch_y_values:\n",
        "for i in range(3):\n",
        "    fpr[i], tpr[i], _ = roc_curve(best_epoch_y_values[:, i], best_epoch_preds[:, i])\n",
        "    roc_auc[i] = auc(fpr[i], tpr[i])\n",
        "\n",
        "\n",
        "# Compute micro-average ROC curve and ROC area\n",
        "fpr[\"micro\"], tpr[\"micro\"], _ = roc_curve(best_epoch_y_values.ravel(), best_epoch_preds.ravel())\n",
        "roc_auc[\"micro\"] = auc(fpr[\"micro\"], tpr[\"micro\"])\n",
        "\n",
        "print(prev_max_f1)\n",
        "print(prev_max_presicion)"
      ],
      "metadata": {
        "id": "3DtbsVr4Xwyz"
      },
      "execution_count": null,
      "outputs": []
    },
    {
      "cell_type": "code",
      "execution_count": 17,
      "metadata": {
        "id": "fB0Q33pN3NRh",
        "colab": {
          "base_uri": "https://localhost:8080/",
          "height": 720
        },
        "outputId": "30408e87-88b6-47d1-9955-d8a42c9aca36"
      },
      "outputs": [
        {
          "output_type": "display_data",
          "data": {
            "text/plain": [
              "<Figure size 432x288 with 0 Axes>"
            ]
          },
          "metadata": {}
        },
        {
          "output_type": "display_data",
          "data": {
            "image/png": "[encoded data removed]",
            "text/plain": [
              "<Figure size 1200x900 with 1 Axes>"
            ]
          },
          "metadata": {
            "needs_background": "light"
          }
        }
      ],
      "source": [
        "#code taken from: https://scikit-learn.org/stable/auto_examples/model_selection/plot_roc.html\n",
        "\n",
        "\n",
        "# First aggregate all false positive rates\n",
        "all_fpr = np.unique(np.concatenate([fpr[i] for i in range(3)]))\n",
        "lw = 3\n",
        "# Then interpolate all ROC curves at this points\n",
        "mean_tpr = np.zeros_like(all_fpr)\n",
        "for i in range(3):\n",
        "    mean_tpr += interp(all_fpr, fpr[i], tpr[i])\n",
        "\n",
        "# Finally average it and compute AUC\n",
        "mean_tpr /= 3\n",
        "\n",
        "fpr[\"macro\"] = all_fpr\n",
        "tpr[\"macro\"] = mean_tpr\n",
        "roc_auc[\"macro\"] = auc(fpr[\"macro\"], tpr[\"macro\"])\n",
        "\n",
        "# Plot all ROC curves\n",
        "plt.figure()\n",
        "figure(figsize=(12,9),dpi=100)\n",
        "\n",
        "plt.plot(\n",
        "    fpr[\"micro\"],\n",
        "    tpr[\"micro\"],\n",
        "    label=\"micro-average ROC curve (area = {0:0.2f})\".format(roc_auc[\"micro\"]),\n",
        "    color=\"deeppink\",\n",
        "    linestyle=\":\",\n",
        "    linewidth=4,\n",
        ")\n",
        "\n",
        "plt.plot(\n",
        "    fpr[\"macro\"],\n",
        "    tpr[\"macro\"],\n",
        "    label=\"macro-average ROC curve (area = {0:0.2f})\".format(roc_auc[\"macro\"]),\n",
        "    color=\"navy\",\n",
        "    linestyle=\":\",\n",
        "    linewidth=4,\n",
        ")\n",
        "\n",
        "colors = cycle([\"aqua\", \"darkorange\", \"cornflowerblue\"])\n",
        "for i, color in zip(range(3), colors):\n",
        "    plt.plot(\n",
        "        fpr[i],\n",
        "        tpr[i],\n",
        "        color=color,\n",
        "        lw=lw,\n",
        "        label=\"ROC curve of class {0} (area = {1:0.2f})\".format(i, roc_auc[i]),\n",
        "    )\n",
        "plt.plot([0, 1], [0, 1], \"k--\", lw=lw)\n",
        "plt.xlim([0.0, 1.0])\n",
        "plt.ylim([0.0, 1.05])\n",
        "plt.xlabel(\"False Positive Rate\")\n",
        "plt.ylabel(\"True Positive Rate\")\n",
        "plt.title(\"Some extension of Receiver operating characteristic to multiclass\")\n",
        "plt.legend(loc=\"lower right\")\n",
        "plt.savefig('/content/drive/MyDrive/Colab Notebooks/AI_2/ROC_6_GRU_final.png')\n",
        "plt.show()"
      ]
    },
    {
      "cell_type": "code",
      "execution_count": 18,
      "metadata": {
        "id": "wIvRFHIo3R1V",
        "colab": {
          "base_uri": "https://localhost:8080/",
          "height": 700
        },
        "outputId": "7942f0a7-f447-4a93-9b7e-5c1e500ee396"
      },
      "outputs": [
        {
          "output_type": "execute_result",
          "data": {
            "text/plain": [
              "<matplotlib.legend.Legend at 0x7fbdb7572d90>"
            ]
          },
          "metadata": {},
          "execution_count": 18
        },
        {
          "output_type": "display_data",
          "data": {
            "image/png": "[encoded data removed]",
            "text/plain": [
              "<Figure size 1200x900 with 1 Axes>"
            ]
          },
          "metadata": {
            "needs_background": "light"
          }
        }
      ],
      "source": [
        "figure(figsize=(12,9),dpi=100)\n",
        "plt.plot(epochs,train_loss,'r',label='Training Score',)\n",
        "plt.plot(epochs,validation_loss,'b',label='Validation Score')\n",
        "plt.xlabel(\"Epochs\")\n",
        "plt.ylabel(\"loss\")\n",
        "plt.grid()\n",
        "plt.savefig('/content/drive/MyDrive/Colab Notebooks/AI_2/train_val_6_GRU_final.png')\n",
        "plt.legend()\n",
        "\n"
      ]
    }
  ],
  "metadata": {
    "colab": {
      "collapsed_sections": [],
      "name": "AI_2_hw3_final.ipynb",
      "provenance": []
    },
    "kernelspec": {
      "display_name": "Python 3",
      "name": "python3"
    },
    "language_info": {
      "name": "python"
    }
  },
  "nbformat": 4,
  "nbformat_minor": 0
}
